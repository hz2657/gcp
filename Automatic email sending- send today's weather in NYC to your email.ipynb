{
 "cells": [
  {
   "cell_type": "markdown",
   "metadata": {},
   "source": [
    "# Scrape the daily data by beautiful soup"
   ]
  },
  {
   "cell_type": "code",
   "execution_count": 87,
   "metadata": {},
   "outputs": [],
   "source": [
    "#---------use BeautifulSoup to scrape data-------------\n",
    "#---------define function weather_spider---------------\n",
    "import requests\n",
    "from bs4 import BeautifulSoup\n",
    "\n",
    "def weather_spider():\n",
    "    headers={'user-agent':'Mozilla/5.0 (Macintosh; Intel Mac OS X 10_13_6) AppleWebKit/537.36 (KHTML, like Gecko) Chrome/71.0.3578.98 Safari/537.36'}\n",
    "    url='https://weather.com/weather/tenday/l/New+York+City+NY?canonicalCityId=a701ee19c4ab71bbbe2f6ba2fe8c250913883e5ae9b8eee8b54f8efbdb3eec03'\n",
    "    res=requests.get(url,headers=headers)\n",
    "    res.encoding='utf-8'\n",
    "    soup=BeautifulSoup(res.text,'html.parser')\n",
    "    data1= bsdata.find(class_='_-_-components-src-molecule-DaypartDetails-DailyContent-DailyContent--daypartDate--3VGlz')\n",
    "    data2= bsdata.find(class_='_-_-components-src-molecule-DaypartDetails-DailyContent-DailyContent--temp--1s3a7')\n",
    "    data3= bsdata.find(class_=\"_-_-components-src-molecule-DaypartDetails-DailyContent-DailyContent--narrative--3Ti6_\")\n",
    "    \n",
    "    date=data1.text\n",
    "    weather=data2.text\n",
    "    detail=data3.text\n",
    "    return date,weather,detail\n",
    "\n",
    "date,weather,detail = weather_spider()"
   ]
  },
  {
   "cell_type": "markdown",
   "metadata": {},
   "source": [
    "# set email content, send email  \n",
    "\n",
    "If you are using g-mail, and have error 535, which is SMTPAuthenticationError: (535, b'5.7.8 Username and Password not accepted.\n",
    "\n",
    "You can switch on 2-Step Verification, and use App Password instead, reference link: https://support.google.com/accounts/answer/185833?hl=en"
   ]
  },
  {
   "cell_type": "code",
   "execution_count": 92,
   "metadata": {},
   "outputs": [
    {
     "name": "stdout",
     "output_type": "stream",
     "text": [
      "Email sent!\n"
     ]
    }
   ],
   "source": [
    "import smtplib\n",
    "from email.header import Header\n",
    "from email.mime.multipart import MIMEMultipart\n",
    "from email.mime.text import MIMEText\n",
    "fromaddr = \"hz2657@columbia.edu\"\n",
    "toaddr = \"hz2657@columbia.edu\"\n",
    "\n",
    "\n",
    "msg = MIMEMultipart()\n",
    "msg['From'] = fromaddr\n",
    "msg['To'] = toaddr\n",
    "#---if want to send to multiple recipients, replace the last line with this \n",
    "#recipients = ['email1', 'email2']\n",
    "#msg['To'] = \", \".join(recipients)\n",
    "\n",
    "\n",
    "msg['Subject'] = \"today's weather information with love\"\n",
    "body = \"\"\"\\\n",
    "Here is today's weather information\n",
    "\n",
    "Date: %s\n",
    "Weather: %s\n",
    "Detail: %s\n",
    "\n",
    "Take good care!\n",
    "\n",
    "Best wishes,\n",
    "Sunny\n",
    "\"\"\" % (date, weather, detail)\n",
    "\n",
    "msg.attach(MIMEText(body, 'plain'))\n",
    "\n",
    "try:\n",
    "    server = smtplib.SMTP('smtp.gmail.com', 25)\n",
    "    server.connect(\"smtp.gmail.com\",587)\n",
    "    server.ehlo()\n",
    "    server.starttls()\n",
    "    server.ehlo()\n",
    "    server.login(fromaddr, \"lnbfoeqrhxxebywy\")\n",
    "    text = msg.as_string()\n",
    "    server.sendmail(fromaddr, toaddr, text)\n",
    "    server.quit()\n",
    "    print('Email sent!')\n",
    "except Exception as exception:\n",
    "    print(\"Error: %s!\\n\\n\" % exception)\n",
    "    "
   ]
  },
  {
   "cell_type": "code",
   "execution_count": 84,
   "metadata": {},
   "outputs": [],
   "source": [
    "#---------------define send_email function ----------------\n",
    "def send_email(date,weather,detail):\n",
    "    \n",
    "    msg = MIMEMultipart()\n",
    "    msg['From'] = fromaddr\n",
    "    msg['To'] = toaddr\n",
    "#---if want to send to multiple recipients, replace the last line with this \n",
    "#recipients = ['email1', 'email2']\n",
    "#msg['To'] = \", \".join(recipients)\n",
    "\n",
    "\n",
    "    msg['Subject'] = \"today's weather information with love\"\n",
    "    body = \"\"\"\\\n",
    "    Here is today's weather information\n",
    "\n",
    "    Date: %s\n",
    "    Weather: %s\n",
    "    Detail: %s\n",
    "    \n",
    "    Take good care!\n",
    "\n",
    "    Best wishes,\n",
    "    Sunny\n",
    "    \"\"\" % (date, weather, detail)\n",
    "\n",
    "    msg.attach(MIMEText(body, 'plain'))\n",
    "\n",
    "    try:\n",
    "        server = smtplib.SMTP('smtp.gmail.com', 25)\n",
    "        server.connect(\"smtp.gmail.com\",587)\n",
    "        server.ehlo()\n",
    "        server.starttls()\n",
    "        server.ehlo()\n",
    "        server.login(fromaddr, \"YOUR APP PASSWORD\")\n",
    "        text = msg.as_string()\n",
    "        server.sendmail(fromaddr, toaddr, text)\n",
    "        server.quit()\n",
    "        print('Email sent!')\n",
    "    except Exception as exception:\n",
    "        print(\"Error: %s!\\n\\n\" % exception)"
   ]
  },
  {
   "cell_type": "markdown",
   "metadata": {},
   "source": [
    "# Schedule time to send email daily\n",
    "\n",
    "reference: https://andreilungu.com/python-script-to-send-every-month-an-email-reminder-in-a-specific-day-of-the-month/"
   ]
  },
  {
   "cell_type": "code",
   "execution_count": null,
   "metadata": {},
   "outputs": [],
   "source": []
  }
 ],
 "metadata": {
  "kernelspec": {
   "display_name": "Python 3",
   "language": "python",
   "name": "python3"
  },
  "language_info": {
   "codemirror_mode": {
    "name": "ipython",
    "version": 3
   },
   "file_extension": ".py",
   "mimetype": "text/x-python",
   "name": "python",
   "nbconvert_exporter": "python",
   "pygments_lexer": "ipython3",
   "version": "3.7.4"
  }
 },
 "nbformat": 4,
 "nbformat_minor": 2
}
