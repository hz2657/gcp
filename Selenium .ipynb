{
 "cells": [
  {
   "cell_type": "markdown",
   "metadata": {},
   "source": [
    "Install Selenium:\n",
    "\n",
    "由于Selenium是真实地模拟人操作浏览器，需要等待网页缓冲的时间，在爬取大量数据的时候，速度会比较慢。\n",
    "reference: https://seleniumhq.github.io/selenium/docs/api/py/api.html\n"
   ]
  },
  {
   "cell_type": "code",
   "execution_count": 5,
   "metadata": {},
   "outputs": [
    {
     "name": "stdout",
     "output_type": "stream",
     "text": [
      "Requirement already satisfied: selenium in c:\\users\\huizhe zhu\\anaconda3\\lib\\site-packages (3.141.0)\n",
      "Requirement already satisfied: urllib3 in c:\\users\\huizhe zhu\\anaconda3\\lib\\site-packages (from selenium) (1.25.9)\n"
     ]
    }
   ],
   "source": [
    "# install Selenium\n",
    "!pip install selenium"
   ]
  },
  {
   "cell_type": "code",
   "execution_count": 6,
   "metadata": {},
   "outputs": [
    {
     "data": {
      "text/plain": [
       "'C:\\\\Users\\\\Huizhe ZHU\\\\Anaconda3'"
      ]
     },
     "execution_count": 6,
     "metadata": {},
     "output_type": "execute_result"
    }
   ],
   "source": [
    "# find path\n",
    "import os\n",
    "import sys\n",
    "os.path.dirname(sys.executable)\n",
    "\n",
    "# then, paste your file into the PATH"
   ]
  },
  {
   "cell_type": "code",
   "execution_count": 10,
   "metadata": {},
   "outputs": [],
   "source": [
    "# 1. test if Selenium is installed successfully"
   ]
  },
  {
   "cell_type": "code",
   "execution_count": 11,
   "metadata": {},
   "outputs": [],
   "source": [
    "# 2. test if Selenium is installed successfully\n",
    "import time\n",
    "# 本地Chrome浏览器设置方法\n",
    "from selenium import webdriver #从selenium库中调用webdriver模块\n",
    "driver = webdriver.Chrome() # 设置引擎为Chrome，真实地打开一个Chrome浏览器\n",
    "\n",
    "driver.get('https://localprod.pandateacher.com/python-manuscript/hello-spiderman/') # 打开网页\n",
    "time.sleep(1)\n",
    "driver.close() # 关闭浏览器"
   ]
  },
  {
   "cell_type": "code",
   "execution_count": 17,
   "metadata": {},
   "outputs": [
    {
     "name": "stdout",
     "output_type": "stream",
     "text": [
      "<class 'selenium.webdriver.remote.webelement.WebElement'>\n",
      "（提示：吴枫）\n",
      "<selenium.webdriver.remote.webelement.WebElement (session=\"d45850f941e8b4752156217226ca2f7f\", element=\"78130b97-f7cb-4c80-8347-19f395a3fb29\")>\n"
     ]
    }
   ],
   "source": [
    "# 3. test if Selenium is installed successfully: get the text with tag_name = 'label'\n",
    "\n",
    "import time\n",
    "# 本地Chrome浏览器设置方法\n",
    "from selenium import webdriver #从selenium库中调用webdriver模块\n",
    "driver = webdriver.Chrome() # 设置引擎为Chrome，真实地打开一个Chrome浏览器\n",
    "\n",
    "driver.get('https://localprod.pandateacher.com/python-manuscript/hello-spiderman/') # 访问页面\n",
    "time.sleep(2) # 等待2秒\n",
    "\n",
    "label = driver.find_element_by_tag_name('label') # 解析网页并提取第一个<label>标签中的文字\n",
    "print(type(label)) # 打印label的数据类型\n",
    "print(label.text) # 打印label的文本\n",
    "print(label) # 打印label\n",
    "driver.close() # 关闭浏览器\n"
   ]
  },
  {
   "cell_type": "markdown",
   "metadata": {},
   "source": [
    "使用selenium获取网页，然后交给BeautifulSoup解析和提取"
   ]
  },
  {
   "cell_type": "code",
   "execution_count": 29,
   "metadata": {},
   "outputs": [],
   "source": [
    "# use driver.page_source to get complete html\n",
    "from selenium import webdriver \n",
    "driver = webdriver.Chrome() \n",
    "\n",
    "driver.get('https://localprod.pandateacher.com/python-manuscript/hello-spiderman/') # 访问页面\n",
    "time.sleep(2) # 等待两秒，等浏览器加缓冲载数据\n",
    "\n",
    "pageSource = driver.page_source # 获取完整渲染的网页源代码\n",
    "print(type(pageSource)) # 打印pageSource的类型\n",
    "print(pageSource) # 打印pageSource\n",
    "driver.close() # 关闭浏览器"
   ]
  },
  {
   "cell_type": "markdown",
   "metadata": {},
   "source": [
    "自动操作浏览器"
   ]
  },
  {
   "cell_type": "code",
   "execution_count": null,
   "metadata": {},
   "outputs": [],
   "source": [
    "#.send_keys() # 模拟按键输入，自动填写表单\n",
    "#.click() # 点击元素\n",
    "from selenium import  webdriver \n",
    "import time\n",
    "\n",
    "driver = webdriver.Chrome() \n",
    "driver.get('https://localprod.pandateacher.com/python-manuscript/hello-spiderman/') \n",
    "time.sleep(2)\n",
    "\n",
    "# 可以根据id=\"teacher\"，或者class=\"teacher\"查找定位到这里\n",
    "teacher = driver.find_element_by_id('teacher')\n",
    "teacher.send_keys('必须是吴枫呀')\n",
    "\n",
    "assistant = driver.find_element_by_name('assistant')\n",
    "assistant.send_keys('都喜欢')\n",
    "\n",
    "time.sleep(1)\n",
    "\n",
    "button = driver.find_element_by_class_name('sub')\n",
    "button.click()\n",
    "\n",
    "time.sleep(1)\n",
    "driver.close()\n",
    "\n",
    "## 除了输入和点击的两个方法，经常配合它们会用到的，还有一个方法.clear()，用于清除元素的内容。"
   ]
  },
  {
   "cell_type": "markdown",
   "metadata": {},
   "source": [
    "# project 1: get a song's review from qq music\n",
    "\n",
    "This project requires a VPN to China to work, if you don't have, please check project 2\n",
    "\n",
    "解析与提取数据：\n",
    "1. 使用selenium提取数据的方法\n",
    "2. 先获取到完整网页源代码，然后用BeautifulSoup抓取"
   ]
  },
  {
   "cell_type": "code",
   "execution_count": 19,
   "metadata": {},
   "outputs": [],
   "source": [
    "# method 1: use selenium to get data \n",
    "\n",
    "import time\n",
    "from selenium import webdriver \n",
    "\n",
    "driver = webdriver.Chrome() \n",
    "driver.get('https://y.qq.com/n/yqq/song/000xdZuV2LcQ19.html') # 访问页面\n",
    "time.sleep(2)\n",
    "\n",
    "comments = driver.find_element_by_class_name('js_hot_list').find_elements_by_class_name('js_cmt_li') # 使用class_name找到评论\n",
    "\n",
    "print(len(comments)) # 打印获取到的评论个数\n",
    "\n",
    "for comment in comments: # 循环\n",
    "    sweet = comment.find_element_by_tag_name('p') # 找到评论\n",
    "    print ('评论：%s\\n ---\\n'%sweet.text) # 打印评论\n",
    "driver.close() # 关闭浏览器\n"
   ]
  },
  {
   "cell_type": "code",
   "execution_count": 23,
   "metadata": {},
   "outputs": [],
   "source": [
    "# method 2: use BeautifulSoup to get data \n",
    "\n",
    "# 为了获取更多评论。点击网页中的【点击加载更多】，会加载出新的15个评论的数据。找到【点击加载更多】在网页源代码中的位置，点击它，等待源代码加载完成之后就可以把全部30个评论提取出来了。\n",
    "from selenium import webdriver \n",
    "from bs4 import BeautifulSoup\n",
    "import time\n",
    "\n",
    "driver = webdriver.Chrome() \n",
    "\n",
    "driver.get('https://y.qq.com/n/yqq/song/000xdZuV2LcQ19.html') # 访问页面\n",
    "time.sleep(2)\n",
    "\n",
    "button = driver.find_element_by_class_name('js_get_more_hot') # 根据类名找到【点击加载更多】\n",
    "button.click() # 点击\n",
    "time.sleep(2) # 等待两秒\n",
    "\n",
    "pageSource = driver.page_source # 获取Elements中渲染完成的网页源代码\n",
    "soup = BeautifulSoup(pageSource,'html.parser')  # 使用bs解析网页\n",
    "comments = soup.find('ul',class_='js_hot_list').find_all('li',class_='js_cmt_li') # 使用bs提取元素\n",
    "print(len(comments)) # 打印comments的数量\n",
    "\n",
    "for comment in comments: # 循环\n",
    "    sweet = comment.find('p') # 提取评论\n",
    "    print ('评论：%s\\n ---\\n'%sweet.text) # 打印评论\n",
    "driver.close() # 关闭浏览器 # 关闭浏览器\n"
   ]
  },
  {
   "cell_type": "markdown",
   "metadata": {},
   "source": [
    "# project 2: automatically log in and leave a review"
   ]
  },
  {
   "cell_type": "code",
   "execution_count": 31,
   "metadata": {},
   "outputs": [],
   "source": [
    "from selenium import webdriver \n",
    "from bs4 import BeautifulSoup\n",
    "import time\n",
    "\n",
    "# set up web driver in Chrome\n",
    "driver = webdriver.Chrome() \n",
    "driver.get('https://wordpress-edu-3autumn.localprod.oc.forchange.cn/wp-login.php') # 访问页面\n",
    "time.sleep(1)\n",
    "\n",
    "#-------------log in--------------------------\n",
    "# enter username\n",
    "username = driver.find_element_by_id('user_login')\n",
    "username.send_keys('hz2657')\n",
    "\n",
    "# enter password\n",
    "password = driver.find_element_by_id('user_pass')\n",
    "password.send_keys('@Z$VvMSIpkaHymIz')\n",
    "\n",
    "time.sleep(1)\n",
    "\n",
    "# click enter \n",
    "button = driver.find_element_by_id('wp-submit')\n",
    "button.click()\n",
    "\n",
    "time.sleep(1)\n",
    "\n",
    "#-------------find the article and leave a review--------------------------\n",
    "\n",
    "# clink the article《未来已来（三）——同九义何汝秀》，to enter the article page\n",
    "button2 = driver.find_element_by_partial_link_text('同九义何汝秀')\n",
    "button2.click()\n",
    "\n",
    "time.sleep(1)\n",
    "\n",
    "#找到评论区，输入评论，点击发表评论\n",
    "comment = driver.find_element_by_id('comment')\n",
    "comment.send_keys('Im using Selenium to write this review, isn''t it super cool')\n",
    "\n",
    "time.sleep(1)\n",
    "\n",
    "# click submit comment \n",
    "button3 = driver.find_element_by_id('submit')\n",
    "button3.click()\n"
   ]
  }
 ],
 "metadata": {
  "kernelspec": {
   "display_name": "Python 3",
   "language": "python",
   "name": "python3"
  },
  "language_info": {
   "codemirror_mode": {
    "name": "ipython",
    "version": 3
   },
   "file_extension": ".py",
   "mimetype": "text/x-python",
   "name": "python",
   "nbconvert_exporter": "python",
   "pygments_lexer": "ipython3",
   "version": "3.7.4"
  }
 },
 "nbformat": 4,
 "nbformat_minor": 2
}
